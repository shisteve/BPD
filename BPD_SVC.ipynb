{
 "cells": [
  {
   "cell_type": "code",
   "execution_count": 1,
   "id": "8ba83c4b",
   "metadata": {},
   "outputs": [],
   "source": [
    "import matplotlib.pyplot as plt\n",
    "import pandas as pd\n",
    "import numpy as np"
   ]
  },
  {
   "cell_type": "code",
   "execution_count": 2,
   "id": "e245943a",
   "metadata": {},
   "outputs": [],
   "source": [
    "data = pd.read_excel('BPD_Data_Final_NoDeath.xlsx')\n",
    "\n",
    "data.loc[data['Severe BPD']==1, 'BPD'] = 1\n",
    "data.loc[data['MGSO4']==3, 'MGSO4'] = 2\n",
    "data.loc[data['Maternal_Smoking']=='-', 'Maternal_Smoking'] = np.nan"
   ]
  },
  {
   "cell_type": "code",
   "execution_count": 3,
   "id": "42c1f331",
   "metadata": {},
   "outputs": [
    {
     "data": {
      "text/html": [
       "<div>\n",
       "<style scoped>\n",
       "    .dataframe tbody tr th:only-of-type {\n",
       "        vertical-align: middle;\n",
       "    }\n",
       "\n",
       "    .dataframe tbody tr th {\n",
       "        vertical-align: top;\n",
       "    }\n",
       "\n",
       "    .dataframe thead th {\n",
       "        text-align: right;\n",
       "    }\n",
       "</style>\n",
       "<table border=\"1\" class=\"dataframe\">\n",
       "  <thead>\n",
       "    <tr style=\"text-align: right;\">\n",
       "      <th></th>\n",
       "      <th>Birth Gestation (weeks)</th>\n",
       "      <th>Birth Weight (grams)</th>\n",
       "      <th>Growth retardation</th>\n",
       "      <th>BWcentile</th>\n",
       "      <th>SEX</th>\n",
       "      <th>ANCS</th>\n",
       "      <th>MGSO4</th>\n",
       "      <th>PPROM</th>\n",
       "      <th>C-SEC</th>\n",
       "      <th>Twins</th>\n",
       "      <th>Maternal_Smoking</th>\n",
       "      <th>Maternal Chorio</th>\n",
       "      <th>Maternal Infection</th>\n",
       "      <th>Maernal antibiotics</th>\n",
       "      <th>IB/OB</th>\n",
       "      <th>Intubated in Delivery</th>\n",
       "      <th>Surfactant (Y/N)</th>\n",
       "      <th>Surfactant NoDoses</th>\n",
       "      <th>ADM TEMP</th>\n",
       "      <th>Respiratory support_36weeks</th>\n",
       "    </tr>\n",
       "  </thead>\n",
       "  <tbody>\n",
       "    <tr>\n",
       "      <th>0</th>\n",
       "      <td>28</td>\n",
       "      <td>1110</td>\n",
       "      <td>2</td>\n",
       "      <td>50-75th</td>\n",
       "      <td>2</td>\n",
       "      <td>1</td>\n",
       "      <td>2</td>\n",
       "      <td>2.0</td>\n",
       "      <td>1</td>\n",
       "      <td>2.0</td>\n",
       "      <td>2</td>\n",
       "      <td>2.0</td>\n",
       "      <td>2.0</td>\n",
       "      <td>2.0</td>\n",
       "      <td>1</td>\n",
       "      <td>1.0</td>\n",
       "      <td>1.0</td>\n",
       "      <td>2.0</td>\n",
       "      <td>37.7</td>\n",
       "      <td>UNSPECIFIED</td>\n",
       "    </tr>\n",
       "    <tr>\n",
       "      <th>1</th>\n",
       "      <td>25</td>\n",
       "      <td>620</td>\n",
       "      <td>2</td>\n",
       "      <td>10-25th</td>\n",
       "      <td>1</td>\n",
       "      <td>1</td>\n",
       "      <td>1</td>\n",
       "      <td>2.0</td>\n",
       "      <td>1</td>\n",
       "      <td>2.0</td>\n",
       "      <td>2</td>\n",
       "      <td>2.0</td>\n",
       "      <td>2.0</td>\n",
       "      <td>1.0</td>\n",
       "      <td>1</td>\n",
       "      <td>1.0</td>\n",
       "      <td>1.0</td>\n",
       "      <td>2.0</td>\n",
       "      <td>37.3</td>\n",
       "      <td>High flow</td>\n",
       "    </tr>\n",
       "    <tr>\n",
       "      <th>2</th>\n",
       "      <td>28</td>\n",
       "      <td>700</td>\n",
       "      <td>1</td>\n",
       "      <td>2-9th</td>\n",
       "      <td>1</td>\n",
       "      <td>1</td>\n",
       "      <td>1</td>\n",
       "      <td>2.0</td>\n",
       "      <td>1</td>\n",
       "      <td>NaN</td>\n",
       "      <td>NaN</td>\n",
       "      <td>NaN</td>\n",
       "      <td>NaN</td>\n",
       "      <td>NaN</td>\n",
       "      <td>1</td>\n",
       "      <td>NaN</td>\n",
       "      <td>NaN</td>\n",
       "      <td>NaN</td>\n",
       "      <td>36.9</td>\n",
       "      <td>NaN</td>\n",
       "    </tr>\n",
       "  </tbody>\n",
       "</table>\n",
       "</div>"
      ],
      "text/plain": [
       "   Birth Gestation (weeks)  Birth Weight (grams)  Growth retardation  \\\n",
       "0                       28                  1110                   2   \n",
       "1                       25                   620                   2   \n",
       "2                       28                   700                   1   \n",
       "\n",
       "  BWcentile  SEX  ANCS  MGSO4  PPROM  C-SEC  Twins Maternal_Smoking  \\\n",
       "0   50-75th    2     1      2    2.0      1    2.0                2   \n",
       "1   10-25th    1     1      1    2.0      1    2.0                2   \n",
       "2     2-9th    1     1      1    2.0      1    NaN              NaN   \n",
       "\n",
       "   Maternal Chorio  Maternal Infection  Maernal antibiotics  IB/OB  \\\n",
       "0              2.0                 2.0                  2.0      1   \n",
       "1              2.0                 2.0                  1.0      1   \n",
       "2              NaN                 NaN                  NaN      1   \n",
       "\n",
       "   Intubated in Delivery  Surfactant (Y/N)  Surfactant NoDoses  ADM TEMP  \\\n",
       "0                    1.0               1.0                 2.0      37.7   \n",
       "1                    1.0               1.0                 2.0      37.3   \n",
       "2                    NaN               NaN                 NaN      36.9   \n",
       "\n",
       "  Respiratory support_36weeks  \n",
       "0                 UNSPECIFIED  \n",
       "1                   High flow  \n",
       "2                         NaN  "
      ]
     },
     "execution_count": 3,
     "metadata": {},
     "output_type": "execute_result"
    }
   ],
   "source": [
    "data.iloc[:3,2:22]"
   ]
  },
  {
   "cell_type": "code",
   "execution_count": 7,
   "id": "8106222e",
   "metadata": {},
   "outputs": [
    {
     "name": "stdout",
     "output_type": "stream",
     "text": [
      "(153, 5)\n",
      "(144, 5)\n"
     ]
    }
   ],
   "source": [
    "XX = data[['Birth Gestation (weeks)', 'Birth Weight (grams)', 'SEX', 'ANCS', 'MGSO4', 'PPROM',\n",
    "           'C-SEC', 'Twins', 'Intubated in Delivery', 'Surfactant (Y/N)', 'ADM TEMP', 'Severe BPD', 'BPD']]\n",
    "\n",
    "XX = data[['Birth Gestation (weeks)', 'Birth Weight (grams)', 'SEX', 'ADM TEMP', 'Severe BPD', 'BPD']]\n",
    "\n",
    "XX = data[['Birth Gestation (weeks)', 'Birth Weight (grams)', 'ADM TEMP', 'Severe BPD', 'BPD']]\n",
    "\n",
    "\n",
    "print(XX.shape)\n",
    "XX = XX.dropna()\n",
    "print(XX.shape)\n",
    "\n",
    "XX.loc[XX['BPD']==2, 'BPD'] = 0\n",
    "XX.loc[XX['Severe BPD']==1, 'BPD']=2\n",
    "\n",
    "YY = XX['BPD'].to_frame()\n",
    "XX = XX.drop(columns=['Severe BPD', 'BPD'])"
   ]
  },
  {
   "cell_type": "code",
   "execution_count": 4,
   "id": "33ac71fc",
   "metadata": {},
   "outputs": [
    {
     "name": "stdout",
     "output_type": "stream",
     "text": [
      "(153, 13)\n",
      "(143, 13)\n"
     ]
    }
   ],
   "source": [
    "XX = data.iloc[:,2:23]\n",
    "XX = XX.drop(columns=['Growth retardation', 'BWcentile',\n",
    "                      'Surfactant NoDoses', 'Respiratory support_36weeks', 'Maternal_Smoking', 'Maternal Chorio', 'Maternal Infection', 'Maernal antibiotics'#, 'IB/OB'\n",
    "                     ])\n",
    "# XX = XX[~(XX['Maternal_Smoking']=='-')]\n",
    "XX.loc[XX['MGSO4']==3, 'MGSO4'] = 2\n",
    "\n",
    "XX = data['Birth Gestation (weeks)', 'Birth Weight (grams)']\n",
    "\n",
    "# XX['Severe BPD'] = data.iloc[:,22]\n",
    "print(XX.shape)\n",
    "XX = XX.dropna()\n",
    "print(XX.shape)\n",
    "\n",
    "YY = XX['Severe BPD'].to_frame()\n",
    "XX = XX.drop(columns=['Severe BPD'])\n",
    "\n",
    "# YY.loc[YY['Severe BPD']==2, 'Severe BPD'] = 0"
   ]
  },
  {
   "cell_type": "code",
   "execution_count": 9,
   "id": "4830766b",
   "metadata": {},
   "outputs": [
    {
     "data": {
      "text/plain": [
       "1.0    63\n",
       "2.0    50\n",
       "0.0    31\n",
       "Name: BPD, dtype: int64"
      ]
     },
     "execution_count": 9,
     "metadata": {},
     "output_type": "execute_result"
    }
   ],
   "source": [
    "YY['BPD'].value_counts()"
   ]
  },
  {
   "cell_type": "code",
   "execution_count": 4,
   "id": "b6c55e6b",
   "metadata": {},
   "outputs": [
    {
     "ename": "NameError",
     "evalue": "name 'XX' is not defined",
     "output_type": "error",
     "traceback": [
      "\u001b[0;31m---------------------------------------------------------------------------\u001b[0m",
      "\u001b[0;31mNameError\u001b[0m                                 Traceback (most recent call last)",
      "\u001b[0;32m<ipython-input-4-e8c27b71314a>\u001b[0m in \u001b[0;36m<module>\u001b[0;34m()\u001b[0m\n\u001b[0;32m----> 1\u001b[0;31m \u001b[0mXX\u001b[0m\u001b[0;34m[\u001b[0m\u001b[0;34m:\u001b[0m\u001b[0;36m3\u001b[0m\u001b[0;34m]\u001b[0m\u001b[0;34m\u001b[0m\u001b[0m\n\u001b[0m",
      "\u001b[0;31mNameError\u001b[0m: name 'XX' is not defined"
     ]
    }
   ],
   "source": [
    "XX[:3]"
   ]
  },
  {
   "cell_type": "code",
   "execution_count": null,
   "id": "fe0b809a",
   "metadata": {},
   "outputs": [],
   "source": [
    "from sklearn.preprocessing import OneHotEncoder\n",
    "onehot = OneHotEncoder(dtype=np.int, sparse=True)\n",
    "# nominals = pd.DataFrame(onehot.fit_transform(XX.iloc[:,2:-1]).toarray())\n",
    "nominals = onehot.fit_transform(XX.iloc[:,2:-1]).toarray()\n",
    "nominals.shape\n",
    "# nominals = onehot.fit_transform(XX.iloc[:,[2,3,4,5,6,7,12,13,14]]).toarray()"
   ]
  },
  {
   "cell_type": "code",
   "execution_count": 11,
   "id": "850f8ff3",
   "metadata": {},
   "outputs": [],
   "source": [
    "from sklearn.preprocessing import StandardScaler, MinMaxScaler\n",
    "ss_X = StandardScaler()\n",
    "XXX = ss_X.fit_transform(XX.iloc[:,[0,1,-1]])\n",
    "\n",
    "# mm_X = MinMaxScaler()\n",
    "# XXX = mm_X.fit_transform(XX.iloc[:,[1,-1]])"
   ]
  },
  {
   "cell_type": "code",
   "execution_count": 12,
   "id": "d461e8e6",
   "metadata": {},
   "outputs": [
    {
     "data": {
      "text/plain": [
       "27    37\n",
       "26    33\n",
       "28    30\n",
       "25    23\n",
       "24    15\n",
       "23     6\n",
       "Name: Birth Gestation (weeks), dtype: int64"
      ]
     },
     "execution_count": 12,
     "metadata": {},
     "output_type": "execute_result"
    }
   ],
   "source": [
    "XX.iloc[:,0].value_counts()"
   ]
  },
  {
   "cell_type": "code",
   "execution_count": 13,
   "id": "2532592f",
   "metadata": {},
   "outputs": [
    {
     "data": {
      "text/plain": [
       "array([[-0.83289315, -1.27841087,  0.35316561],\n",
       "       [ 1.28363532,  0.57838124, -0.64400788],\n",
       "       [ 1.28363532,  2.23972156,  0.25344826]])"
      ]
     },
     "execution_count": 13,
     "metadata": {},
     "output_type": "execute_result"
    }
   ],
   "source": [
    "XXX[:3]"
   ]
  },
  {
   "cell_type": "code",
   "execution_count": 14,
   "id": "1c4d0cb1",
   "metadata": {},
   "outputs": [
    {
     "data": {
      "text/plain": [
       "(144, 3)"
      ]
     },
     "execution_count": 14,
     "metadata": {},
     "output_type": "execute_result"
    }
   ],
   "source": [
    "# X_final = np.concatenate(((XX.iloc[:,0].reshape(-1,1)-23), XXX), axis=1)\n",
    "X_final = XXX\n",
    "X_final.shape"
   ]
  },
  {
   "cell_type": "code",
   "execution_count": 15,
   "id": "a8d1c83d",
   "metadata": {},
   "outputs": [],
   "source": [
    "from sklearn.model_selection import train_test_split\n",
    "\n",
    "X_train,X_test,y_train,y_test = train_test_split(X_final,YY,test_size=0.25,random_state=1)"
   ]
  },
  {
   "cell_type": "code",
   "execution_count": 16,
   "id": "070c49f8",
   "metadata": {},
   "outputs": [
    {
     "data": {
      "text/plain": [
       "(array([0., 1., 2.]), array([10, 20,  6]))"
      ]
     },
     "execution_count": 16,
     "metadata": {},
     "output_type": "execute_result"
    }
   ],
   "source": [
    "np.unique(y_test, return_counts=True)"
   ]
  },
  {
   "cell_type": "code",
   "execution_count": 17,
   "id": "6e2959fb",
   "metadata": {},
   "outputs": [
    {
     "name": "stdout",
     "output_type": "stream",
     "text": [
      "R-squared value of linear SVR is 0.4444444444444444\n",
      "[[4 4 2]\n",
      " [5 8 7]\n",
      " [1 1 4]]\n",
      "             precision    recall  f1-score   support\n",
      "\n",
      "        0.0       0.40      0.40      0.40        10\n",
      "        1.0       0.62      0.40      0.48        20\n",
      "        2.0       0.31      0.67      0.42         6\n",
      "\n",
      "avg / total       0.50      0.44      0.45        36\n",
      "\n",
      "R-squared value of Poly SVR is 0.5833333333333334\n",
      "[[ 3  6  1]\n",
      " [ 2 16  2]\n",
      " [ 0  4  2]]\n",
      "             precision    recall  f1-score   support\n",
      "\n",
      "        0.0       0.60      0.30      0.40        10\n",
      "        1.0       0.62      0.80      0.70        20\n",
      "        2.0       0.40      0.33      0.36         6\n",
      "\n",
      "avg / total       0.58      0.58      0.56        36\n",
      "\n",
      "R-squared value of RBF SVR is 0.4722222222222222\n",
      "[[4 3 3]\n",
      " [3 9 8]\n",
      " [0 2 4]]\n",
      "             precision    recall  f1-score   support\n",
      "\n",
      "        0.0       0.57      0.40      0.47        10\n",
      "        1.0       0.64      0.45      0.53        20\n",
      "        2.0       0.27      0.67      0.38         6\n",
      "\n",
      "avg / total       0.56      0.47      0.49        36\n",
      "\n"
     ]
    },
    {
     "name": "stderr",
     "output_type": "stream",
     "text": [
      "/cosma/local/Python/3.6.5/lib/python3.6/site-packages/sklearn/utils/validation.py:578: DataConversionWarning: A column-vector y was passed when a 1d array was expected. Please change the shape of y to (n_samples, ), for example using ravel().\n",
      "  y = column_or_1d(y, warn=True)\n"
     ]
    }
   ],
   "source": [
    "from sklearn.svm import SVC\n",
    "from sklearn.metrics import classification_report, confusion_matrix\n",
    "#1. linear\n",
    "linear_svr = SVC(kernel='linear', C=2)\n",
    "linear_svr.fit(X_train,y_train)\n",
    "linear_svr_y_predict = linear_svr.predict(X_test)\n",
    "print('R-squared value of linear SVR is',linear_svr.score(X_test,y_test))\n",
    "print(confusion_matrix(y_test, linear_svr_y_predict))\n",
    "print(classification_report(y_test, linear_svr_y_predict))\n",
    "#2. poly\n",
    "poly_svr = SVC(kernel='poly')\n",
    "poly_svr.fit(X_train,y_train)\n",
    "poly_svr_y_predict = poly_svr.predict(X_test)\n",
    "print('R-squared value of Poly SVR is',poly_svr.score(X_test,y_test))\n",
    "print(confusion_matrix(y_test, poly_svr_y_predict))\n",
    "print(classification_report(y_test, poly_svr_y_predict))\n",
    "#3. rbg\n",
    "rbf_svr = SVC(kernel='rbf', C=1)\n",
    "rbf_svr.fit(X_train,y_train)\n",
    "rbf_svr_y_predict = rbf_svr.predict(X_test)\n",
    "print('R-squared value of RBF SVR is',rbf_svr.score(X_test,y_test))\n",
    "print(confusion_matrix(y_test, rbf_svr_y_predict))\n",
    "print(classification_report(y_test, rbf_svr_y_predict))"
   ]
  },
  {
   "cell_type": "code",
   "execution_count": 71,
   "id": "e277c714",
   "metadata": {},
   "outputs": [
    {
     "name": "stdout",
     "output_type": "stream",
     "text": [
      "[[ 0 11]\n",
      " [ 0 25]]\n",
      "             precision    recall  f1-score   support\n",
      "\n",
      "        1.0       0.00      0.00      0.00        11\n",
      "        2.0       0.69      1.00      0.82        25\n",
      "\n",
      "avg / total       0.48      0.69      0.57        36\n",
      "\n"
     ]
    },
    {
     "name": "stderr",
     "output_type": "stream",
     "text": [
      "/cosma/local/Python/3.6.5/lib/python3.6/site-packages/sklearn/metrics/classification.py:1135: UndefinedMetricWarning: Precision and F-score are ill-defined and being set to 0.0 in labels with no predicted samples.\n",
      "  'precision', 'predicted', average, warn_for)\n"
     ]
    }
   ],
   "source": [
    "from sklearn.metrics import classification_report, confusion_matrix\n",
    "print(confusion_matrix(y_test, linear_svr_y_predict))\n",
    "print(classification_report(y_test, linear_svr_y_predict))"
   ]
  },
  {
   "cell_type": "code",
   "execution_count": 72,
   "id": "f079f1b4",
   "metadata": {},
   "outputs": [
    {
     "data": {
      "text/plain": [
       "[<matplotlib.lines.Line2D at 0x7f495b3f9cf8>]"
      ]
     },
     "execution_count": 72,
     "metadata": {},
     "output_type": "execute_result"
    },
    {
     "data": {
      "image/png": "[encoded data removed]",
      "text/plain": [
       "<Figure size 432x288 with 1 Axes>"
      ]
     },
     "metadata": {
      "needs_background": "light"
     },
     "output_type": "display_data"
    }
   ],
   "source": [
    "plt.plot(linear_svr_y_predict-y_test['Severe BPD'],'x')"
   ]
  },
  {
   "cell_type": "code",
   "execution_count": null,
   "id": "142df5a6",
   "metadata": {},
   "outputs": [],
   "source": []
  },
  {
   "cell_type": "code",
   "execution_count": 19,
   "id": "93575224",
   "metadata": {},
   "outputs": [
    {
     "name": "stdout",
     "output_type": "stream",
     "text": [
      "R-squared value of linear SVR is -0.47871203446081223\n",
      "R-squared value of Poly SVR is -0.2471783354804962\n",
      "R-squared value of RBF SVR is -0.21944438458901883\n"
     ]
    }
   ],
   "source": [
    "#第五步：对三种核函数配置下的支持向量机回归模型在相同测试集下进行性能评估\n",
    "#使用R-squared、MSE、MAE指标评估\n",
    "from sklearn.metrics import r2_score,mean_absolute_error,mean_squared_error\n",
    "#1.线性核函数配置的SVR\n",
    "print('R-squared value of linear SVR is',linear_svr.score(X_test,y_test))\n",
    "# print('the MSE of linear SVR is',mean_squared_error(ss_y.inverse_transform(y_test),ss_y.inverse_transform(linear_svr_y_predict)))\n",
    "# print('the MAE of linear SVR is',mean_absolute_error(ss_y.inverse_transform(y_test),ss_y.inverse_transform(linear_svr_y_predict)))\n",
    "#2.多项式核函数配置的SVR\n",
    "print('R-squared value of Poly SVR is',poly_svr.score(X_test,y_test))\n",
    "# print('the MSE of Poly SVR is',mean_squared_error(ss_y.inverse_transform(y_test),ss_y.inverse_transform(poly_svr_y_predict)))\n",
    "# print('the MAE of Poly SVR is',mean_absolute_error(ss_y.inverse_transform(y_test),ss_y.inverse_transform(poly_svr_y_predict)))\n",
    "#3.径向基核函数配置的SVR\n",
    "print('R-squared value of RBF SVR is',rbf_svr.score(X_test,y_test))\n",
    "# print('the MSE of RBF SVR is',mean_squared_error(ss_y.inverse_transform(y_test),ss_y.inverse_transform(rbf_svr_y_predict)))\n",
    "# print('the MAE of RBF SVR is',mean_absolute_error(ss_y.inverse_transform(y_test),ss_y.inverse_transform(rbf_svr_y_predict)))"
   ]
  },
  {
   "cell_type": "code",
   "execution_count": null,
   "id": "f370e783",
   "metadata": {},
   "outputs": [],
   "source": []
  },
  {
   "cell_type": "code",
   "execution_count": null,
   "id": "a4488a69",
   "metadata": {},
   "outputs": [],
   "source": []
  },
  {
   "cell_type": "code",
   "execution_count": 29,
   "id": "1bdf5add",
   "metadata": {},
   "outputs": [],
   "source": [
    "mask = data[\"Growth retardation\"]==1\n",
    "ww = (data[\"Birth Weight (grams)\"]/data[\"Birth Gestation (weeks)\"])[mask]\n",
    "ww2 = (data[\"Birth Weight (grams)\"]/data[\"Birth Gestation (weeks)\"])[~mask]"
   ]
  },
  {
   "cell_type": "code",
   "execution_count": 31,
   "id": "64ff2f93",
   "metadata": {},
   "outputs": [
    {
     "data": {
      "text/plain": [
       "(array([0.02155366, 0.02155366, 0.04849573, 0.04849573, 0.05927256,\n",
       "        0.05388415, 0.05118994, 0.02963628, 0.01077683, 0.00808262]),\n",
       " array([21.66666667, 24.5       , 27.33333333, 30.16666667, 33.        ,\n",
       "        35.83333333, 38.66666667, 41.5       , 44.33333333, 47.16666667,\n",
       "        50.        ]),\n",
       " [<matplotlib.patches.Polygon at 0x7f7f84e78240>])"
      ]
     },
     "execution_count": 31,
     "metadata": {},
     "output_type": "execute_result"
    },
    {
     "data": {
      "image/png": "[encoded data removed]",
      "text/plain": [
       "<Figure size 432x288 with 1 Axes>"
      ]
     },
     "metadata": {
      "needs_background": "light"
     },
     "output_type": "display_data"
    }
   ],
   "source": [
    "\n",
    "plt.hist(ww, bins=10, histtype='step',density=True)\n",
    "plt.hist(ww2, bins=10, histtype='step',density=True)"
   ]
  },
  {
   "cell_type": "code",
   "execution_count": 24,
   "id": "7cc1d40d",
   "metadata": {},
   "outputs": [
    {
     "data": {
      "text/plain": [
       "(array([0.08549618, 0.14656489, 0.        , 0.25648855, 0.36641221,\n",
       "        0.        , 0.40305344, 0.34198473]),\n",
       " array([23.   , 23.625, 24.25 , 24.875, 25.5  , 26.125, 26.75 , 27.375,\n",
       "        28.   ]),\n",
       " [<matplotlib.patches.Polygon at 0x7f7f892f5f60>])"
      ]
     },
     "execution_count": 24,
     "metadata": {},
     "output_type": "execute_result"
    },
    {
     "data": {
      "image/png": "[encoded data removed]",
      "text/plain": [
       "<Figure size 432x288 with 1 Axes>"
      ]
     },
     "metadata": {
      "needs_background": "light"
     },
     "output_type": "display_data"
    }
   ],
   "source": [
    "ww = data[\"Birth Gestation (weeks)\"][mask]\n",
    "ww2 = data[\"Birth Gestation (weeks)\"][~mask]\n",
    "plt.hist(ww, bins=8, histtype='step',density=True)\n",
    "plt.hist(ww2, bins=8, histtype='step',density=True)"
   ]
  },
  {
   "cell_type": "code",
   "execution_count": 41,
   "id": "ca968054",
   "metadata": {},
   "outputs": [
    {
     "data": {
      "text/plain": [
       "(array([0.00046382, 0.00069573, 0.00162338, 0.00173933, 0.00139147,\n",
       "        0.00173933, 0.00185529, 0.00069573, 0.00081169, 0.00034787]),\n",
       " array([ 520.,  608.,  696.,  784.,  872.,  960., 1048., 1136., 1224.,\n",
       "        1312., 1400.]),\n",
       " [<matplotlib.patches.Polygon at 0x7f7f84a55390>])"
      ]
     },
     "execution_count": 41,
     "metadata": {},
     "output_type": "execute_result"
    },
    {
     "data": {
      "image/png": "[encoded data removed]",
      "text/plain": [
       "<Figure size 432x288 with 1 Axes>"
      ]
     },
     "metadata": {
      "needs_background": "light"
     },
     "output_type": "display_data"
    }
   ],
   "source": [
    "condition_col = data[\"Severe BPD\"]\n",
    "mask = condition_col==1\n",
    "mask2 = condition_col==2\n",
    "\n",
    "plot_col = data[\"Birth Weight (grams)\"]\n",
    "ww = plot_col[mask]\n",
    "ww2 = plot_col[mask2]\n",
    "plt.hist(ww, bins=10, histtype='step',density=True)\n",
    "plt.hist(ww2, bins=10, histtype='step',density=True)"
   ]
  },
  {
   "cell_type": "code",
   "execution_count": null,
   "id": "6a1ebef8",
   "metadata": {},
   "outputs": [],
   "source": []
  }
 ],
 "metadata": {
  "kernelspec": {
   "display_name": "Python 3",
   "language": "python",
   "name": "python3"
  },
  "language_info": {
   "codemirror_mode": {
    "name": "ipython",
    "version": 3
   },
   "file_extension": ".py",
   "mimetype": "text/x-python",
   "name": "python",
   "nbconvert_exporter": "python",
   "pygments_lexer": "ipython3",
   "version": "3.6.5"
  }
 },
 "nbformat": 4,
 "nbformat_minor": 5
}

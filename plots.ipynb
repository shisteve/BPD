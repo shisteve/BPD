{
 "cells": [
  {
   "cell_type": "code",
   "execution_count": 28,
   "id": "fcbd8561",
   "metadata": {},
   "outputs": [],
   "source": [
    "import matplotlib.pyplot as plt\n",
    "import pandas as pd\n",
    "import numpy as np"
   ]
  },
  {
   "cell_type": "code",
   "execution_count": 30,
   "id": "268459c6",
   "metadata": {},
   "outputs": [],
   "source": [
    "data = pd.read_excel('BPD_Data_Final_NoDeath.xlsx')\n",
    "\n",
    "data.loc[data['Severe BPD']==1, 'BPD'] = 1\n",
    "data.loc[data['BPD']==2, 'Severe BPD'] = 2\n",
    "data.loc[data['MGSO4']==3, 'MGSO4'] = 2\n",
    "data.loc[data['Maternal_Smoking']=='-', 'Maternal_Smoking'] = np.nan"
   ]
  },
  {
   "cell_type": "code",
   "execution_count": 31,
   "id": "6bc9f6c4",
   "metadata": {},
   "outputs": [],
   "source": [
    "mask = np.logical_and(data[\"BPD\"].notna(), data[\"Severe BPD\"].notna())\n",
    "data =  data.loc[mask,:]\n",
    "\n",
    "data.loc[data['BPD']==2, 'BPD'] = 0\n",
    "data.loc[data['Severe BPD']==1, 'BPD']=2"
   ]
  },
  {
   "cell_type": "code",
   "execution_count": 32,
   "id": "b9b397df",
   "metadata": {},
   "outputs": [],
   "source": [
    "df0 = data.loc[data['BPD']==0, :]\n",
    "df1 = data.loc[data['BPD']==1, :]\n",
    "df2 = data.loc[data['BPD']==2, :]"
   ]
  },
  {
   "cell_type": "code",
   "execution_count": 33,
   "id": "f861c937",
   "metadata": {},
   "outputs": [
    {
     "data": {
      "text/html": [
       "<div>\n",
       "<style scoped>\n",
       "    .dataframe tbody tr th:only-of-type {\n",
       "        vertical-align: middle;\n",
       "    }\n",
       "\n",
       "    .dataframe tbody tr th {\n",
       "        vertical-align: top;\n",
       "    }\n",
       "\n",
       "    .dataframe thead th {\n",
       "        text-align: right;\n",
       "    }\n",
       "</style>\n",
       "<table border=\"1\" class=\"dataframe\">\n",
       "  <thead>\n",
       "    <tr style=\"text-align: right;\">\n",
       "      <th></th>\n",
       "      <th>Sl.no</th>\n",
       "      <th>DOB</th>\n",
       "      <th>Birth Gestation (weeks)</th>\n",
       "      <th>Birth Weight (grams)</th>\n",
       "      <th>Growth retardation</th>\n",
       "      <th>BWcentile</th>\n",
       "      <th>SEX</th>\n",
       "      <th>ANCS</th>\n",
       "      <th>MGSO4</th>\n",
       "      <th>PPROM</th>\n",
       "      <th>...</th>\n",
       "      <th>GRADE IVH</th>\n",
       "      <th>PVL</th>\n",
       "      <th>ROP Treatment (Y/N)</th>\n",
       "      <th>NEC II/III</th>\n",
       "      <th>EOS</th>\n",
       "      <th>LOS</th>\n",
       "      <th>Total hospital Stay</th>\n",
       "      <th>DIED Y/N</th>\n",
       "      <th>PDA LIGATION</th>\n",
       "      <th>PDA Medical Treatment</th>\n",
       "    </tr>\n",
       "  </thead>\n",
       "  <tbody>\n",
       "    <tr>\n",
       "      <th>1</th>\n",
       "      <td>11</td>\n",
       "      <td>2016-01-27</td>\n",
       "      <td>25</td>\n",
       "      <td>620</td>\n",
       "      <td>2</td>\n",
       "      <td>10-25th</td>\n",
       "      <td>1</td>\n",
       "      <td>1</td>\n",
       "      <td>1</td>\n",
       "      <td>2.0</td>\n",
       "      <td>...</td>\n",
       "      <td>1.0</td>\n",
       "      <td>2.0</td>\n",
       "      <td>1.0</td>\n",
       "      <td>2.0</td>\n",
       "      <td>2</td>\n",
       "      <td>1</td>\n",
       "      <td>118</td>\n",
       "      <td>2</td>\n",
       "      <td>2</td>\n",
       "      <td>1.0</td>\n",
       "    </tr>\n",
       "    <tr>\n",
       "      <th>4</th>\n",
       "      <td>41</td>\n",
       "      <td>2016-04-20</td>\n",
       "      <td>28</td>\n",
       "      <td>1000</td>\n",
       "      <td>2</td>\n",
       "      <td>25-50th</td>\n",
       "      <td>2</td>\n",
       "      <td>1</td>\n",
       "      <td>2</td>\n",
       "      <td>1.0</td>\n",
       "      <td>...</td>\n",
       "      <td>4.0</td>\n",
       "      <td>1.0</td>\n",
       "      <td>2.0</td>\n",
       "      <td>2.0</td>\n",
       "      <td>2</td>\n",
       "      <td>2</td>\n",
       "      <td>108</td>\n",
       "      <td>2</td>\n",
       "      <td>2</td>\n",
       "      <td>2.0</td>\n",
       "    </tr>\n",
       "  </tbody>\n",
       "</table>\n",
       "<p>2 rows × 48 columns</p>\n",
       "</div>"
      ],
      "text/plain": [
       "   Sl.no        DOB  Birth Gestation (weeks)  Birth Weight (grams)  \\\n",
       "1     11 2016-01-27                       25                   620   \n",
       "4     41 2016-04-20                       28                  1000   \n",
       "\n",
       "   Growth retardation BWcentile  SEX  ANCS  MGSO4  PPROM  \\\n",
       "1                   2   10-25th    1     1      1    2.0   \n",
       "4                   2   25-50th    2     1      2    1.0   \n",
       "\n",
       "           ...            GRADE IVH  PVL ROP Treatment (Y/N)  NEC II/III  \\\n",
       "1          ...                  1.0  2.0                 1.0         2.0   \n",
       "4          ...                  4.0  1.0                 2.0         2.0   \n",
       "\n",
       "   EOS   LOS  Total hospital Stay  DIED Y/N  PDA LIGATION  \\\n",
       "1     2    1                  118         2             2   \n",
       "4     2    2                  108         2             2   \n",
       "\n",
       "   PDA Medical Treatment  \n",
       "1                    1.0  \n",
       "4                    2.0  \n",
       "\n",
       "[2 rows x 48 columns]"
      ]
     },
     "execution_count": 33,
     "metadata": {},
     "output_type": "execute_result"
    }
   ],
   "source": [
    "data[:2]"
   ]
  },
  {
   "cell_type": "code",
   "execution_count": 39,
   "id": "fd8e967d",
   "metadata": {},
   "outputs": [
    {
     "name": "stdout",
     "output_type": "stream",
     "text": [
      "KruskalResult(statistic=22.893822224223076, pvalue=1.0682420493831448e-05)\n",
      "F_onewayResult(statistic=12.7299150561242, pvalue=8.166520462187046e-06)\n"
     ]
    }
   ],
   "source": [
    "from scipy import stats\n",
    "\n",
    "\n",
    "print(stats.kruskal(df0['Birth Gestation (weeks)'],df1['Birth Gestation (weeks)'],df2['Birth Gestation (weeks)']))\n",
    "print(stats.f_oneway(df0['Birth Gestation (weeks)'],df1['Birth Gestation (weeks)'],df2['Birth Gestation (weeks)']))"
   ]
  },
  {
   "cell_type": "code",
   "execution_count": 40,
   "id": "fc3b20a3",
   "metadata": {},
   "outputs": [],
   "source": [
    "value_array = np.empty(shape=(0,))\n",
    "var_array = np.empty(shape=(0,), dtype=\"<U20\")\n",
    "# cat_array = np.empty(shape=(0,), dtype=\"<U10\")\n",
    "cat_array = np.empty(shape=(0,))\n",
    "\n",
    "state_list = ['No BPD', 'Normal BPD', 'Severe BPD']\n",
    "states_summary = [df0,df1,df2]\n",
    "\n",
    "# state_list = ['Sleep', 'Alert']\n",
    "for j in range(1):\n",
    "    for i in range(0,3):\n",
    "        values = states_summary[i]['Birth Gestation (weeks)']\n",
    "        value_array = np.append(value_array,values)\n",
    "        nn = len(values)\n",
    "        var = np.empty(shape=(nn,), dtype=\"<U20\")\n",
    "        var[:] = state_list[i]\n",
    "        var_array = np.append(var_array,var)\n",
    "        # cat = np.empty(shape=(nn,), dtype=\"<U20\")\n",
    "        cat = np.zeros(nn)\n",
    "        cat[:] = j\n",
    "        cat_array = np.append(cat_array,cat)"
   ]
  },
  {
   "cell_type": "code",
   "execution_count": 41,
   "id": "553112e3",
   "metadata": {},
   "outputs": [],
   "source": [
    "df_plot = pd.DataFrame({'value': value_array,'variable': var_array, 'catalog': cat_array})\n"
   ]
  },
  {
   "cell_type": "code",
   "execution_count": 43,
   "id": "c41c4bd2",
   "metadata": {},
   "outputs": [
    {
     "ename": "ModuleNotFoundError",
     "evalue": "No module named 'scikit_posthocs'",
     "output_type": "error",
     "traceback": [
      "\u001b[0;31m---------------------------------------------------------------------------\u001b[0m",
      "\u001b[0;31mModuleNotFoundError\u001b[0m                       Traceback (most recent call last)",
      "\u001b[0;32m<ipython-input-43-50476c58aacf>\u001b[0m in \u001b[0;36m<module>\u001b[0;34m()\u001b[0m\n\u001b[1;32m      1\u001b[0m \u001b[0;34m\u001b[0m\u001b[0m\n\u001b[0;32m----> 2\u001b[0;31m \u001b[0;32mimport\u001b[0m \u001b[0mscikit_posthocs\u001b[0m \u001b[0;32mas\u001b[0m \u001b[0msp\u001b[0m\u001b[0;34m\u001b[0m\u001b[0m\n\u001b[0m\u001b[1;32m      3\u001b[0m \u001b[0msp\u001b[0m\u001b[0;34m.\u001b[0m\u001b[0mposthoc_mannwhitney\u001b[0m\u001b[0;34m(\u001b[0m\u001b[0mdf_plot\u001b[0m\u001b[0;34m,\u001b[0m \u001b[0mval_col\u001b[0m\u001b[0;34m=\u001b[0m\u001b[0;34m'value'\u001b[0m\u001b[0;34m,\u001b[0m \u001b[0mgroup_col\u001b[0m\u001b[0;34m=\u001b[0m\u001b[0;34m'variable'\u001b[0m\u001b[0;34m,\u001b[0m\u001b[0mp_adjust\u001b[0m\u001b[0;34m=\u001b[0m\u001b[0;32mNone\u001b[0m\u001b[0;34m)\u001b[0m\u001b[0;34m\u001b[0m\u001b[0m\n",
      "\u001b[0;31mModuleNotFoundError\u001b[0m: No module named 'scikit_posthocs'"
     ]
    }
   ],
   "source": [
    "import scikit_posthocs as sp\n",
    "sp.posthoc_mannwhitney(df_plot, val_col='value', group_col='variable',p_adjust=None)"
   ]
  },
  {
   "cell_type": "code",
   "execution_count": 22,
   "id": "40e41896",
   "metadata": {},
   "outputs": [
    {
     "data": {
      "text/plain": [
       "[<matplotlib.lines.Line2D at 0x7fec7a6ae048>]"
      ]
     },
     "execution_count": 22,
     "metadata": {},
     "output_type": "execute_result"
    },
    {
     "data": {
      "image/png": "[encoded data removed]",
      "text/plain": [
       "<Figure size 432x288 with 1 Axes>"
      ]
     },
     "metadata": {
      "needs_background": "light"
     },
     "output_type": "display_data"
    }
   ],
   "source": [
    "plt.plot(df0['Growth retardation'],df0['ADM TEMP'], 'r.')\n",
    "plt.plot(df1['Growth retardation']+0.1,df1['ADM TEMP'], 'g.')\n",
    "plt.plot(df2['Growth retardation']+0.2,df2['ADM TEMP'], 'b.')"
   ]
  },
  {
   "cell_type": "code",
   "execution_count": 37,
   "id": "3859cf53",
   "metadata": {},
   "outputs": [
    {
     "data": {
      "text/plain": [
       "[<matplotlib.lines.Line2D at 0x7fec7a4c28d0>]"
      ]
     },
     "execution_count": 37,
     "metadata": {},
     "output_type": "execute_result"
    },
    {
     "data": {
      "image/png": "[encoded data removed]",
      "text/plain": [
       "<Figure size 432x288 with 1 Axes>"
      ]
     },
     "metadata": {
      "needs_background": "light"
     },
     "output_type": "display_data"
    }
   ],
   "source": [
    "plt.plot(df0['Birth Weight (grams)'],df0['Birth Gestation (weeks)'], 'r.')\n",
    "plt.plot(df1['Birth Weight (grams)'],df1['Birth Gestation (weeks)']+0.1, 'g.')\n",
    "plt.plot(df2['Birth Weight (grams)']+0.2,df2['Birth Gestation (weeks)']+0.2, 'b.')"
   ]
  },
  {
   "cell_type": "code",
   "execution_count": 25,
   "id": "b670914c",
   "metadata": {},
   "outputs": [
    {
     "data": {
      "text/html": [
       "<div>\n",
       "<style scoped>\n",
       "    .dataframe tbody tr th:only-of-type {\n",
       "        vertical-align: middle;\n",
       "    }\n",
       "\n",
       "    .dataframe tbody tr th {\n",
       "        vertical-align: top;\n",
       "    }\n",
       "\n",
       "    .dataframe thead th {\n",
       "        text-align: right;\n",
       "    }\n",
       "</style>\n",
       "<table border=\"1\" class=\"dataframe\">\n",
       "  <thead>\n",
       "    <tr style=\"text-align: right;\">\n",
       "      <th></th>\n",
       "      <th>Birth Gestation (weeks)</th>\n",
       "      <th>Birth Weight (grams)</th>\n",
       "      <th>ADM TEMP</th>\n",
       "    </tr>\n",
       "  </thead>\n",
       "  <tbody>\n",
       "    <tr>\n",
       "      <th>count</th>\n",
       "      <td>31.000000</td>\n",
       "      <td>31.000000</td>\n",
       "      <td>31.000000</td>\n",
       "    </tr>\n",
       "    <tr>\n",
       "      <th>mean</th>\n",
       "      <td>27.129032</td>\n",
       "      <td>1001.290323</td>\n",
       "      <td>37.303226</td>\n",
       "    </tr>\n",
       "    <tr>\n",
       "      <th>std</th>\n",
       "      <td>0.957146</td>\n",
       "      <td>174.542104</td>\n",
       "      <td>0.773944</td>\n",
       "    </tr>\n",
       "    <tr>\n",
       "      <th>min</th>\n",
       "      <td>25.000000</td>\n",
       "      <td>660.000000</td>\n",
       "      <td>35.700000</td>\n",
       "    </tr>\n",
       "    <tr>\n",
       "      <th>25%</th>\n",
       "      <td>27.000000</td>\n",
       "      <td>900.000000</td>\n",
       "      <td>36.800000</td>\n",
       "    </tr>\n",
       "    <tr>\n",
       "      <th>50%</th>\n",
       "      <td>27.000000</td>\n",
       "      <td>1010.000000</td>\n",
       "      <td>37.100000</td>\n",
       "    </tr>\n",
       "    <tr>\n",
       "      <th>75%</th>\n",
       "      <td>28.000000</td>\n",
       "      <td>1110.000000</td>\n",
       "      <td>37.750000</td>\n",
       "    </tr>\n",
       "    <tr>\n",
       "      <th>max</th>\n",
       "      <td>28.000000</td>\n",
       "      <td>1360.000000</td>\n",
       "      <td>39.600000</td>\n",
       "    </tr>\n",
       "  </tbody>\n",
       "</table>\n",
       "</div>"
      ],
      "text/plain": [
       "       Birth Gestation (weeks)  Birth Weight (grams)   ADM TEMP\n",
       "count                31.000000             31.000000  31.000000\n",
       "mean                 27.129032           1001.290323  37.303226\n",
       "std                   0.957146            174.542104   0.773944\n",
       "min                  25.000000            660.000000  35.700000\n",
       "25%                  27.000000            900.000000  36.800000\n",
       "50%                  27.000000           1010.000000  37.100000\n",
       "75%                  28.000000           1110.000000  37.750000\n",
       "max                  28.000000           1360.000000  39.600000"
      ]
     },
     "execution_count": 25,
     "metadata": {},
     "output_type": "execute_result"
    }
   ],
   "source": [
    "df0[['Birth Gestation (weeks)', 'Birth Weight (grams)', 'ADM TEMP']].describe()"
   ]
  },
  {
   "cell_type": "code",
   "execution_count": 26,
   "id": "0919cb35",
   "metadata": {},
   "outputs": [
    {
     "data": {
      "text/html": [
       "<div>\n",
       "<style scoped>\n",
       "    .dataframe tbody tr th:only-of-type {\n",
       "        vertical-align: middle;\n",
       "    }\n",
       "\n",
       "    .dataframe tbody tr th {\n",
       "        vertical-align: top;\n",
       "    }\n",
       "\n",
       "    .dataframe thead th {\n",
       "        text-align: right;\n",
       "    }\n",
       "</style>\n",
       "<table border=\"1\" class=\"dataframe\">\n",
       "  <thead>\n",
       "    <tr style=\"text-align: right;\">\n",
       "      <th></th>\n",
       "      <th>Birth Gestation (weeks)</th>\n",
       "      <th>Birth Weight (grams)</th>\n",
       "      <th>ADM TEMP</th>\n",
       "    </tr>\n",
       "  </thead>\n",
       "  <tbody>\n",
       "    <tr>\n",
       "      <th>count</th>\n",
       "      <td>64.000000</td>\n",
       "      <td>64.000000</td>\n",
       "      <td>63.000000</td>\n",
       "    </tr>\n",
       "    <tr>\n",
       "      <th>mean</th>\n",
       "      <td>26.234375</td>\n",
       "      <td>901.484375</td>\n",
       "      <td>36.936508</td>\n",
       "    </tr>\n",
       "    <tr>\n",
       "      <th>std</th>\n",
       "      <td>1.422519</td>\n",
       "      <td>202.885298</td>\n",
       "      <td>1.016049</td>\n",
       "    </tr>\n",
       "    <tr>\n",
       "      <th>min</th>\n",
       "      <td>23.000000</td>\n",
       "      <td>520.000000</td>\n",
       "      <td>32.000000</td>\n",
       "    </tr>\n",
       "    <tr>\n",
       "      <th>25%</th>\n",
       "      <td>25.000000</td>\n",
       "      <td>757.500000</td>\n",
       "      <td>36.600000</td>\n",
       "    </tr>\n",
       "    <tr>\n",
       "      <th>50%</th>\n",
       "      <td>26.000000</td>\n",
       "      <td>880.000000</td>\n",
       "      <td>37.000000</td>\n",
       "    </tr>\n",
       "    <tr>\n",
       "      <th>75%</th>\n",
       "      <td>27.000000</td>\n",
       "      <td>1040.000000</td>\n",
       "      <td>37.500000</td>\n",
       "    </tr>\n",
       "    <tr>\n",
       "      <th>max</th>\n",
       "      <td>28.000000</td>\n",
       "      <td>1400.000000</td>\n",
       "      <td>38.900000</td>\n",
       "    </tr>\n",
       "  </tbody>\n",
       "</table>\n",
       "</div>"
      ],
      "text/plain": [
       "       Birth Gestation (weeks)  Birth Weight (grams)   ADM TEMP\n",
       "count                64.000000             64.000000  63.000000\n",
       "mean                 26.234375            901.484375  36.936508\n",
       "std                   1.422519            202.885298   1.016049\n",
       "min                  23.000000            520.000000  32.000000\n",
       "25%                  25.000000            757.500000  36.600000\n",
       "50%                  26.000000            880.000000  37.000000\n",
       "75%                  27.000000           1040.000000  37.500000\n",
       "max                  28.000000           1400.000000  38.900000"
      ]
     },
     "execution_count": 26,
     "metadata": {},
     "output_type": "execute_result"
    }
   ],
   "source": [
    "df1[['Birth Gestation (weeks)', 'Birth Weight (grams)', 'ADM TEMP']].describe()"
   ]
  },
  {
   "cell_type": "code",
   "execution_count": 27,
   "id": "d1d09c54",
   "metadata": {},
   "outputs": [
    {
     "data": {
      "text/html": [
       "<div>\n",
       "<style scoped>\n",
       "    .dataframe tbody tr th:only-of-type {\n",
       "        vertical-align: middle;\n",
       "    }\n",
       "\n",
       "    .dataframe tbody tr th {\n",
       "        vertical-align: top;\n",
       "    }\n",
       "\n",
       "    .dataframe thead th {\n",
       "        text-align: right;\n",
       "    }\n",
       "</style>\n",
       "<table border=\"1\" class=\"dataframe\">\n",
       "  <thead>\n",
       "    <tr style=\"text-align: right;\">\n",
       "      <th></th>\n",
       "      <th>Birth Gestation (weeks)</th>\n",
       "      <th>Birth Weight (grams)</th>\n",
       "      <th>ADM TEMP</th>\n",
       "    </tr>\n",
       "  </thead>\n",
       "  <tbody>\n",
       "    <tr>\n",
       "      <th>count</th>\n",
       "      <td>51.000000</td>\n",
       "      <td>51.000000</td>\n",
       "      <td>50.00000</td>\n",
       "    </tr>\n",
       "    <tr>\n",
       "      <th>mean</th>\n",
       "      <td>25.607843</td>\n",
       "      <td>781.862745</td>\n",
       "      <td>36.73600</td>\n",
       "    </tr>\n",
       "    <tr>\n",
       "      <th>std</th>\n",
       "      <td>1.386772</td>\n",
       "      <td>176.502014</td>\n",
       "      <td>1.07547</td>\n",
       "    </tr>\n",
       "    <tr>\n",
       "      <th>min</th>\n",
       "      <td>23.000000</td>\n",
       "      <td>450.000000</td>\n",
       "      <td>34.00000</td>\n",
       "    </tr>\n",
       "    <tr>\n",
       "      <th>25%</th>\n",
       "      <td>25.000000</td>\n",
       "      <td>637.500000</td>\n",
       "      <td>36.32500</td>\n",
       "    </tr>\n",
       "    <tr>\n",
       "      <th>50%</th>\n",
       "      <td>26.000000</td>\n",
       "      <td>750.000000</td>\n",
       "      <td>36.95000</td>\n",
       "    </tr>\n",
       "    <tr>\n",
       "      <th>75%</th>\n",
       "      <td>27.000000</td>\n",
       "      <td>905.000000</td>\n",
       "      <td>37.40000</td>\n",
       "    </tr>\n",
       "    <tr>\n",
       "      <th>max</th>\n",
       "      <td>28.000000</td>\n",
       "      <td>1180.000000</td>\n",
       "      <td>39.00000</td>\n",
       "    </tr>\n",
       "  </tbody>\n",
       "</table>\n",
       "</div>"
      ],
      "text/plain": [
       "       Birth Gestation (weeks)  Birth Weight (grams)  ADM TEMP\n",
       "count                51.000000             51.000000  50.00000\n",
       "mean                 25.607843            781.862745  36.73600\n",
       "std                   1.386772            176.502014   1.07547\n",
       "min                  23.000000            450.000000  34.00000\n",
       "25%                  25.000000            637.500000  36.32500\n",
       "50%                  26.000000            750.000000  36.95000\n",
       "75%                  27.000000            905.000000  37.40000\n",
       "max                  28.000000           1180.000000  39.00000"
      ]
     },
     "execution_count": 27,
     "metadata": {},
     "output_type": "execute_result"
    }
   ],
   "source": [
    "df2[['Birth Gestation (weeks)', 'Birth Weight (grams)', 'ADM TEMP']].describe()"
   ]
  }
 ],
 "metadata": {
  "kernelspec": {
   "display_name": "Python 3",
   "language": "python",
   "name": "python3"
  },
  "language_info": {
   "codemirror_mode": {
    "name": "ipython",
    "version": 3
   },
   "file_extension": ".py",
   "mimetype": "text/x-python",
   "name": "python",
   "nbconvert_exporter": "python",
   "pygments_lexer": "ipython3",
   "version": "3.6.5"
  }
 },
 "nbformat": 4,
 "nbformat_minor": 5
}
